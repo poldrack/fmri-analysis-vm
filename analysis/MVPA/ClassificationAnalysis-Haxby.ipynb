{
 "cells": [
  {
   "cell_type": "markdown",
   "metadata": {},
   "source": [
    "In this exercise we will classify stimulus classes using the Haxby et al. data. "
   ]
  },
  {
   "cell_type": "code",
   "execution_count": 1,
   "metadata": {},
   "outputs": [
    {
     "name": "stdout",
     "output_type": "stream",
     "text": [
      "180225-11:34:02,9 duecredit ERROR:\n",
      "\t Failed to import duecredit due to No module named 'duecredit'\n",
      "using data from /Users/poldrack/nilearn_data/haxby2001/subj2\n"
     ]
    },
    {
     "name": "stderr",
     "output_type": "stream",
     "text": [
      "/Users/poldrack/anaconda3/envs/py3/lib/python3.6/site-packages/sklearn/cross_validation.py:41: DeprecationWarning: This module was deprecated in version 0.18 in favor of the model_selection module into which all the refactored classes and functions are moved. Also note that the interface of the new CV iterators are different from that of this module. This module will be removed in 0.20.\n",
      "  \"This module will be removed in 0.20.\", DeprecationWarning)\n"
     ]
    }
   ],
   "source": [
    "import nipype.algorithms.modelgen as model   # model generation\n",
    "import nipype.interfaces.fsl as fsl          # fsl\n",
    "from nipype.interfaces.base import Bunch\n",
    "import os,json,glob\n",
    "import numpy\n",
    "import nibabel\n",
    "import nilearn.plotting\n",
    "import sklearn.multiclass\n",
    "from sklearn.svm import SVC\n",
    "import sklearn.metrics\n",
    "import sklearn.cross_validation\n",
    "from nilearn.input_data import NiftiMasker\n",
    "import scipy.stats\n",
    "import random\n",
    "import nilearn.datasets\n",
    "from haxby_data import HaxbyData\n",
    "\n",
    "haxby_dataset = nilearn.datasets.fetch_haxby()\n",
    "boldfile=haxby_dataset.func[0]\n",
    "datadir=os.path.dirname(boldfile)\n",
    "\n",
    "print('using data from %s'%datadir)\n",
    "haxbydata=HaxbyData(datadir)\n",
    "\n",
    "%matplotlib inline\n",
    "import matplotlib.pyplot as plt\n",
    "\n",
    "boldimg=nibabel.load(boldfile)\n",
    "\n",
    "if not os.path.exists(boldfile.replace('.nii.gz','_brain.nii.gz')):\n",
    "    bet=fsl.BET()\n",
    "    bet.inputs.in_file=boldfile\n",
    "    bet.inputs.out_file=boldfile.replace('.nii.gz','_brain.nii.gz')\n",
    "    bet.inputs.functional=True\n",
    "    bet.inputs.mask=True\n",
    "    bet.run()\n",
    "\n",
    "\n",
    "brainmaskimg=nibabel.load(boldfile.replace('.nii.gz','_brain_mask.nii.gz'))\n",
    "vtmaskimg=nibabel.load(haxby_dataset.mask_vt[0])\n",
    "\n",
    "# set up design info\n"
   ]
  },
  {
   "cell_type": "markdown",
   "metadata": {},
   "source": [
    "Set up model\n"
   ]
  },
  {
   "cell_type": "code",
   "execution_count": 2,
   "metadata": {
    "collapsed": true
   },
   "outputs": [],
   "source": [
    "modeldir=os.path.join(datadir,'blockmodel')\n",
    "# no way to specify the output directory, so we just chdir into the \n",
    "# desired output directory\n",
    "if not os.path.exists(modeldir):\n",
    "    os.mkdir(modeldir)\n",
    "os.chdir(modeldir)\n"
   ]
  },
  {
   "cell_type": "markdown",
   "metadata": {},
   "source": [
    "Estimate the model with a separate condition for each block using FSL.  This will take several hours to finish."
   ]
  },
  {
   "cell_type": "code",
   "execution_count": 3,
   "metadata": {},
   "outputs": [
    {
     "data": {
      "text/plain": [
       "False"
      ]
     },
     "execution_count": 3,
     "metadata": {},
     "output_type": "execute_result"
    }
   ],
   "source": [
    "not os.path.exists(os.path.join(modeldir,'stats/zstat1.nii.gz'))"
   ]
  },
  {
   "cell_type": "code",
   "execution_count": 4,
   "metadata": {
    "scrolled": true
   },
   "outputs": [
    {
     "name": "stdout",
     "output_type": "stream",
     "text": [
      "stats have already been run - using existing files\n"
     ]
    }
   ],
   "source": [
    "contrasts=[]\n",
    "\n",
    "for i in range(len(haxbydata.conditions)):\n",
    "    contrasts.append([haxbydata.conditions[i],'T',[haxbydata.conditions[i]],[1]])\n",
    "\n",
    "\n",
    "# this is how one could do it using FSL - this is VERY slow, so let's compute the GLM on our own\n",
    "if not os.path.exists(os.path.join(modeldir,'stats/zstat1.nii.gz')):\n",
    "    \n",
    "    \n",
    "    info = [Bunch(conditions=haxbydata.conditions,\n",
    "                  onsets=haxbydata.onsets,\n",
    "                  durations=haxbydata.durations)\n",
    "           ]\n",
    "    s = model.SpecifyModel()\n",
    "    s.inputs.input_units = 'secs'\n",
    "    s.inputs.functional_runs = [haxbydata.boldbrainfile]\n",
    "    s.inputs.time_repetition = haxbydata.tr\n",
    "    s.inputs.high_pass_filter_cutoff = 128.\n",
    "    s.inputs.subject_info = info\n",
    "    s.run()\n",
    "\n",
    "    level1design = fsl.model.Level1Design()\n",
    "    level1design.inputs.interscan_interval = haxbydata.tr\n",
    "    level1design.inputs.bases = {'dgamma':{'derivs': False}}\n",
    "    level1design.inputs.session_info = s._sessinfo\n",
    "    level1design.inputs.model_serial_correlations=False\n",
    "    level1design.inputs.contrasts=contrasts\n",
    "    level1info=level1design.run() \n",
    "    \n",
    "    fsf_file=os.path.join(modeldir,'run0.fsf')\n",
    "    matfile=fsf_file.replace(\".fsf\",\".mat\")\n",
    "    event_files=glob.glob(os.path.join(modeldir,'ev*txt'))\n",
    "\n",
    "    modelgen=fsl.model.FEATModel()\n",
    "    modelgen.inputs.fsf_file=fsf_file\n",
    "    modelgen.inputs.ev_files=event_files\n",
    "    modelgen.run()\n",
    "\n",
    "    fgls = fsl.FILMGLS(autocorr_noestimate=True)\n",
    "    fgls.inputs.in_file =haxbydata.boldbrainfile\n",
    "    fgls.inputs.design_file = os.path.join(modeldir,'run0.mat')\n",
    "    fgls.inputs.threshold = 10\n",
    "    fgls.inputs.results_dir = os.path.join(modeldir,'stats')\n",
    "    fgls.inputs.tcon_file=os.path.join(modeldir,'run0.con')\n",
    "    res = fgls.run() \n",
    "\n",
    "else:\n",
    "    print('stats have already been run - using existing files')\n"
   ]
  },
  {
   "cell_type": "markdown",
   "metadata": {},
   "source": [
    "Load the zstat images that we will use as our block-by-block signal estimates"
   ]
  },
  {
   "cell_type": "code",
   "execution_count": 31,
   "metadata": {
    "scrolled": true
   },
   "outputs": [
    {
     "name": "stderr",
     "output_type": "stream",
     "text": [
      "/Users/poldrack/anaconda3/envs/py3/lib/python3.6/site-packages/ipykernel_launcher.py:18: DeprecationWarning: get_affine method is deprecated.\n",
      "Please use the ``img.affine`` property instead.\n",
      "\n",
      "* deprecated from version: 2.1\n",
      "* Will raise <class 'nibabel.deprecator.ExpiredDeprecationError'> as of version: 4.0\n",
      "/Users/poldrack/anaconda3/envs/py3/lib/python3.6/site-packages/ipykernel_launcher.py:21: DeprecationWarning: get_affine method is deprecated.\n",
      "Please use the ``img.affine`` property instead.\n",
      "\n",
      "* deprecated from version: 2.1\n",
      "* Will raise <class 'nibabel.deprecator.ExpiredDeprecationError'> as of version: 4.0\n"
     ]
    }
   ],
   "source": [
    "use_whole_brain=False\n",
    "\n",
    "# include chairs(8) and cats (3)\n",
    "condition_mask = numpy.logical_or(haxbydata.condnums == 8,\n",
    "                               haxbydata.condnums == 3)\n",
    "label='chaircat'\n",
    "\n",
    "condlabels=haxbydata.condnums[condition_mask]\n",
    "runlabels=haxbydata.runs[condition_mask]\n",
    "\n",
    "if not os.path.exists(os.path.join(modeldir,'zstatdata_%s.nii.gz'%label)):\n",
    "    zstatdata=numpy.zeros((boldimg.shape[0],boldimg.shape[1],\n",
    "                           boldimg.shape[2],len(haxbydata.conditions)))\n",
    "    for i in range(len(haxbydata.conditions)):\n",
    "        zstatdata[:,:,:,i]=nibabel.load(os.path.join(modeldir,\n",
    "                                'stats/zstat%d.nii.gz'%int(i+1))).get_data()\n",
    "\n",
    "    zstatimg=nibabel.Nifti1Image(zstatdata,affine=brainmaskimg.get_affine())\n",
    "    zstatimg.to_filename(os.path.join(modeldir,'zstatdata.nii.gz'))\n",
    "    zstatimg=nibabel.Nifti1Image(zstatdata[:,:,:,condition_mask],\n",
    "                                 affine=brainmaskimg.get_affine())\n",
    "    zstatimg.to_filename(os.path.join(modeldir,'zstatdata_%s.nii.gz'%label))\n",
    "\n",
    "if use_whole_brain:\n",
    "    maskimg=haxbydata.brainmaskfile\n",
    "else:\n",
    "    maskimg=haxbydata.vtmaskfile\n",
    "    \n",
    "nifti_masker = NiftiMasker(mask_img=maskimg, standardize=True)\n",
    "fmri_masked = nifti_masker.fit_transform(os.path.join(modeldir,'zstatdata.nii.gz'))\n",
    "fmri_masked = fmri_masked[condition_mask,:]\n",
    "\n"
   ]
  },
  {
   "cell_type": "code",
   "execution_count": 32,
   "metadata": {},
   "outputs": [
    {
     "data": {
      "text/plain": [
       "array([[ 3,  0],\n",
       "       [ 8,  0],\n",
       "       [ 3,  1],\n",
       "       [ 8,  1],\n",
       "       [ 8,  2],\n",
       "       [ 3,  2],\n",
       "       [ 8,  3],\n",
       "       [ 3,  3],\n",
       "       [ 3,  4],\n",
       "       [ 8,  4],\n",
       "       [ 3,  5],\n",
       "       [ 8,  5],\n",
       "       [ 8,  6],\n",
       "       [ 3,  6],\n",
       "       [ 8,  7],\n",
       "       [ 3,  7],\n",
       "       [ 3,  8],\n",
       "       [ 8,  8],\n",
       "       [ 8,  9],\n",
       "       [ 3,  9],\n",
       "       [ 3, 10],\n",
       "       [ 8, 10],\n",
       "       [ 8, 11],\n",
       "       [ 3, 11]])"
      ]
     },
     "execution_count": 32,
     "metadata": {},
     "output_type": "execute_result"
    }
   ],
   "source": [
    "metadata=numpy.vstack((condlabels,runlabels)).T\n",
    "metadata\n"
   ]
  },
  {
   "cell_type": "code",
   "execution_count": 33,
   "metadata": {},
   "outputs": [],
   "source": [
    "numpy.savetxt(os.path.join(modeldir,'zstatdata_%s.txt'%label),fmri_masked)\n",
    "numpy.savetxt(os.path.join(modeldir,'metadata_%s.txt'%label),metadata)"
   ]
  },
  {
   "cell_type": "markdown",
   "metadata": {},
   "source": [
    "Now let's do a leave-one-run out classifier."
   ]
  },
  {
   "cell_type": "code",
   "execution_count": 6,
   "metadata": {
    "collapsed": true
   },
   "outputs": [],
   "source": [
    "def shuffle_within_runs(labels,runs):\n",
    "    for r in numpy.unique(runs):\n",
    "        l=labels[runs==r]\n",
    "        random.shuffle(l)\n",
    "        labels[runs==r]=l\n",
    "    return labels\n",
    "\n",
    "\n",
    "def run_classifier(fmri_masked,condlabels,runs,baseclf,shuffle_labels=False):\n",
    "    cv = sklearn.cross_validation.LeaveOneLabelOut(labels=runs)\n",
    "\n",
    "    pred=numpy.zeros(len(runs)) # predicted class\n",
    "\n",
    "    if len(numpy.unique(condlabels))>2:\n",
    "        clf=sklearn.multiclass.OneVsRestClassifier(baseclf)\n",
    "    else:\n",
    "        clf=baseclf\n",
    "    \n",
    "    for train,test in cv:\n",
    "        testdata=fmri_masked[test,:]\n",
    "        traindata=fmri_masked[train,:]\n",
    "        trainlabels=condlabels[train]\n",
    "        if shuffle_labels:\n",
    "            trainlabels=shuffle_within_runs(trainlabels,runs[train])\n",
    "        clf.fit(traindata,trainlabels)\n",
    "        pred[test]=clf.predict(testdata)\n",
    "        \n",
    "    confmtx=sklearn.metrics.confusion_matrix(condlabels,pred)\n",
    "    acc=sklearn.metrics.accuracy_score(condlabels,pred)\n",
    "    return pred,confmtx,acc\n",
    "\n",
    "pred,confmtx,acc=run_classifier(fmri_masked,condlabels,runlabels,SVC(kernel='linear'))\n",
    "\n"
   ]
  },
  {
   "cell_type": "code",
   "execution_count": 7,
   "metadata": {},
   "outputs": [
    {
     "name": "stdout",
     "output_type": "stream",
     "text": [
      "[[9 3]\n",
      " [3 9]]\n",
      "Accuracy score: 0.750000\n"
     ]
    }
   ],
   "source": [
    "print(confmtx)\n",
    "print('Accuracy score: %f'%acc)"
   ]
  },
  {
   "cell_type": "markdown",
   "metadata": {},
   "source": [
    "Run the classifier repeatedly using random labels to get a null distribution"
   ]
  },
  {
   "cell_type": "code",
   "execution_count": 8,
   "metadata": {
    "collapsed": true
   },
   "outputs": [],
   "source": [
    "nperms=500\n",
    "randacc=numpy.zeros(nperms)\n",
    "condlabels_rand=condlabels.copy()\n",
    "for i in range(nperms):\n",
    "    _,_,randacc[i]=run_classifier(fmri_masked,condlabels_rand,\n",
    "                                  runlabels,\n",
    "                                  SVC(kernel='linear'),\n",
    "                                  shuffle_labels=True)\n"
   ]
  },
  {
   "cell_type": "code",
   "execution_count": 9,
   "metadata": {},
   "outputs": [
    {
     "name": "stdout",
     "output_type": "stream",
     "text": [
      "Pval: 0.002\n"
     ]
    },
    {
     "data": {
      "text/plain": [
       "[0, 1, 0, 100]"
      ]
     },
     "execution_count": 9,
     "metadata": {},
     "output_type": "execute_result"
    },
    {
     "data": {
      "image/png": "[encoded data removed]",
      "text/plain": [
       "<matplotlib.figure.Figure at 0x7fccc27122e8>"
      ]
     },
     "metadata": {},
     "output_type": "display_data"
    }
   ],
   "source": [
    "pct=scipy.stats.percentileofscore(randacc,acc)\n",
    "print('Pval:',(100-pct)/100.0)\n",
    "_=plt.hist(randacc,50)\n",
    "plt.plot([acc,acc],[0,20],'green',linewidth=2)\n",
    "plt.axis([0,1,0,100])"
   ]
  },
  {
   "cell_type": "markdown",
   "metadata": {},
   "source": [
    "Now let's set up a searchlight analysis"
   ]
  },
  {
   "cell_type": "code",
   "execution_count": 10,
   "metadata": {},
   "outputs": [
    {
     "data": {
      "text/plain": [
       "SearchLight(cv=None, estimator='svc',\n",
       "      mask_img=<nibabel.nifti1.Nifti1Image object at 0x7fccc2777f28>,\n",
       "      n_jobs=1, process_mask_img=None, radius=8, scoring=None, verbose=0)"
      ]
     },
     "execution_count": 10,
     "metadata": {},
     "output_type": "execute_result"
    }
   ],
   "source": [
    "import nilearn.decoding \n",
    "slradius=8\n",
    "sl=nilearn.decoding.SearchLight(mask_img=vtmaskimg,radius=slradius)\n",
    "sl.fit(nibabel.load(os.path.join(modeldir,'zstatdata_facecat.nii.gz')),condlabels)\n"
   ]
  },
  {
   "cell_type": "code",
   "execution_count": 11,
   "metadata": {},
   "outputs": [
    {
     "name": "stderr",
     "output_type": "stream",
     "text": [
      "/home/vagrant/miniconda3/lib/python3.5/site-packages/ipykernel/__main__.py:8: DeprecationWarning: get_affine method is deprecated.\n",
      "Please use the ``img.affine`` property instead.\n",
      "\n",
      "* deprecated from version: 2.1\n",
      "* Will raise <class 'nibabel.deprecator.ExpiredDeprecationError'> as of version: 4.0\n"
     ]
    },
    {
     "data": {
      "text/plain": [
       "<nilearn.plotting.displays.ZSlicer at 0x7fccc2662358>"
      ]
     },
     "execution_count": 11,
     "metadata": {},
     "output_type": "execute_result"
    },
    {
     "data": {
      "image/png": "[encoded data removed]",
      "text/plain": [
       "<matplotlib.figure.Figure at 0x7fccc26da4a8>"
      ]
     },
     "metadata": {},
     "output_type": "display_data"
    }
   ],
   "source": [
    "if not os.path.exists(haxbydata.boldfile.replace('.nii.gz','_brain_mean.nii.gz')):\n",
    "    mean=fsl.maths.MeanImage(in_file=haxbydata.boldfile,\n",
    "                             out_file=haxbydata.boldfile.replace('.nii.gz','_brain_mean.nii.gz'))\n",
    "    mean.run()\n",
    "\n",
    "mean_fmri=nibabel.load(haxbydata.boldfile.replace('.nii.gz','_brain_mean.nii.gz'))\n",
    "nilearn.plotting.plot_stat_map(nibabel.Nifti1Image(sl.scores_,\n",
    "                mean_fmri.get_affine()), mean_fmri,\n",
    "                title=\"Searchlight\", display_mode=\"z\", cut_coords=[-28,-24,-20,-16,-12],\n",
    "                colorbar=False,threshold=0.75)\n"
   ]
  },
  {
   "cell_type": "markdown",
   "metadata": {},
   "source": [
    "Exercise: Change the searchlight radius and see how it affects the results."
   ]
  },
  {
   "cell_type": "markdown",
   "metadata": {
    "collapsed": true
   },
   "source": [
    "Obtain a null distribution by running the searchligh 500 times, so we can compare the observed results to those expected by chance"
   ]
  },
  {
   "cell_type": "code",
   "execution_count": 12,
   "metadata": {
    "collapsed": true
   },
   "outputs": [],
   "source": [
    "nruns=500\n",
    "maxscores=numpy.zeros(nruns)\n",
    "sl_rand=nilearn.decoding.SearchLight(mask_img=vtmaskimg,radius=slradius)\n",
    "\n",
    "for i in range(500):\n",
    "    cl=shuffle_within_runs(condlabels,runlabels)\n",
    "    sl_rand.fit(nibabel.load(os.path.join(modeldir,'zstatdata_facecat.nii.gz')),cl)\n",
    "    maxscores[i]=numpy.max(sl_rand.scores_)\n",
    "    \n"
   ]
  },
  {
   "cell_type": "code",
   "execution_count": 13,
   "metadata": {
    "collapsed": true
   },
   "outputs": [],
   "source": [
    "cutoff=scipy.stats.scoreatpercentile(maxscores,95)"
   ]
  },
  {
   "cell_type": "code",
   "execution_count": 14,
   "metadata": {},
   "outputs": [
    {
     "name": "stdout",
     "output_type": "stream",
     "text": [
      "95 pct null accuracy: 0.916667\n",
      "N voxels > cutoff: 0\n"
     ]
    }
   ],
   "source": [
    "print('95 pct null accuracy: %f'%cutoff)\n",
    "print('N voxels > cutoff: %d'%numpy.sum(sl.scores_>cutoff))"
   ]
  },
  {
   "cell_type": "code",
   "execution_count": 19,
   "metadata": {},
   "outputs": [
    {
     "data": {
      "text/plain": [
       "<haxby_data.HaxbyData at 0xa15d95be0>"
      ]
     },
     "execution_count": 19,
     "metadata": {},
     "output_type": "execute_result"
    }
   ],
   "source": [
    "haxbydata\n"
   ]
  },
  {
   "cell_type": "code",
   "execution_count": 20,
   "metadata": {},
   "outputs": [
    {
     "data": {
      "text/plain": [
       "['__class__',\n",
       " '__delattr__',\n",
       " '__dict__',\n",
       " '__dir__',\n",
       " '__doc__',\n",
       " '__eq__',\n",
       " '__format__',\n",
       " '__ge__',\n",
       " '__getattribute__',\n",
       " '__gt__',\n",
       " '__hash__',\n",
       " '__init__',\n",
       " '__init_subclass__',\n",
       " '__le__',\n",
       " '__lt__',\n",
       " '__module__',\n",
       " '__ne__',\n",
       " '__new__',\n",
       " '__reduce__',\n",
       " '__reduce_ex__',\n",
       " '__repr__',\n",
       " '__setattr__',\n",
       " '__sizeof__',\n",
       " '__str__',\n",
       " '__subclasshook__',\n",
       " '__weakref__',\n",
       " 'boldbrainfile',\n",
       " 'boldfile',\n",
       " 'brainmaskfile',\n",
       " 'cond_dict',\n",
       " 'conditions',\n",
       " 'condlabels',\n",
       " 'condnums',\n",
       " 'durations',\n",
       " 'onsets',\n",
       " 'runs',\n",
       " 'tr',\n",
       " 'vtmaskfile']"
      ]
     },
     "execution_count": 20,
     "metadata": {},
     "output_type": "execute_result"
    }
   ],
   "source": [
    "dir(haxbydata)"
   ]
  },
  {
   "cell_type": "code",
   "execution_count": 29,
   "metadata": {},
   "outputs": [
    {
     "name": "stdout",
     "output_type": "stream",
     "text": [
      "12\n",
      "12\n",
      "12\n",
      "12\n",
      "11\n",
      "12\n",
      "12\n",
      "12\n"
     ]
    }
   ],
   "source": [
    "for i in haxbydata.cond_dict.values():\n",
    "    print(sum(haxbydata.condnums==i))\n",
    "\n"
   ]
  },
  {
   "cell_type": "code",
   "execution_count": 30,
   "metadata": {},
   "outputs": [
    {
     "data": {
      "text/plain": [
       "{'bottle': 7,\n",
       " 'cat': 3,\n",
       " 'chair': 8,\n",
       " 'face': 2,\n",
       " 'house': 5,\n",
       " 'scissors': 1,\n",
       " 'scrambledpix': 6,\n",
       " 'shoe': 4}"
      ]
     },
     "execution_count": 30,
     "metadata": {},
     "output_type": "execute_result"
    }
   ],
   "source": [
    "haxbydata.cond_dict\n"
   ]
  },
  {
   "cell_type": "code",
   "execution_count": null,
   "metadata": {
    "collapsed": true
   },
   "outputs": [],
   "source": []
  }
 ],
 "metadata": {
  "anaconda-cloud": {},
  "git": {
   "suppress_outputs": true
  },
  "kernelspec": {
   "display_name": "Python 3",
   "language": "python",
   "name": "python3"
  },
  "language_info": {
   "codemirror_mode": {
    "name": "ipython",
    "version": 3
   },
   "file_extension": ".py",
   "mimetype": "text/x-python",
   "name": "python",
   "nbconvert_exporter": "python",
   "pygments_lexer": "ipython3",
   "version": "3.6.3"
  }
 },
 "nbformat": 4,
 "nbformat_minor": 1
}
