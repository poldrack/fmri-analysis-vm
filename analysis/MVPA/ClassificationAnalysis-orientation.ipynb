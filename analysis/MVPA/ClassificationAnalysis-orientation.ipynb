{
 "cells": [
  {
   "cell_type": "markdown",
   "metadata": {},
   "source": [
    "In this exercise we will decode orientation using data collected for the Cognitive Neuroscience module in 2016.  The subject performed an implementation of the task by Harrison and Tong (2009). \n",
    "\n",
    "##### Load data\n",
    "\n",
    "First we load the data files."
   ]
  },
  {
   "cell_type": "code",
   "execution_count": 51,
   "metadata": {
    "collapsed": false
   },
   "outputs": [
    {
     "name": "stdout",
     "output_type": "stream",
     "text": [
      "using data from orientation_data\n"
     ]
    }
   ],
   "source": [
    "import os,json,glob\n",
    "import numpy,pandas\n",
    "import nibabel\n",
    "import sklearn.multiclass\n",
    "from sklearn.svm import SVC\n",
    "import sklearn.metrics\n",
    "import sklearn.model_selection\n",
    "import sklearn.preprocessing\n",
    "import scipy.stats\n",
    "import random\n",
    "import seaborn \n",
    "%matplotlib inline\n",
    "import matplotlib.pyplot as plt\n",
    "\n",
    "\n",
    "datadir='orientation_data'\n",
    "\n",
    "print('using data from %s'%datadir)\n",
    "\n",
    "def get_orientation_data(datadir):\n",
    "    groups=['All','V1','V2','V3']\n",
    "    data={}\n",
    "    for g in groups:\n",
    "        yfile=os.path.join(datadir,'%s_groups.txt'%g)\n",
    "        xfile=os.path.join(datadir,'%s_instances.txt'%g)\n",
    "        data[g]={'X':numpy.loadtxt(xfile),'Y':numpy.loadtxt(yfile)}\n",
    "    return data\n",
    "\n",
    "odata=get_orientation_data(datadir)"
   ]
  },
  {
   "cell_type": "markdown",
   "metadata": {},
   "source": [
    "#### Describe and visualize the data\n",
    "\n",
    "Here we will focus on the signal from V1 voxels."
   ]
  },
  {
   "cell_type": "code",
   "execution_count": 57,
   "metadata": {
    "collapsed": false
   },
   "outputs": [
    {
     "name": "stdout",
     "output_type": "stream",
     "text": [
      "151 trials\n",
      "120 V1 voxels\n"
     ]
    },
    {
     "data": {
      "text/plain": [
       "<matplotlib.legend.Legend at 0x113624a20>"
      ]
     },
     "execution_count": 57,
     "metadata": {},
     "output_type": "execute_result"
    },
    {
     "data": {
      "image/png": "[encoded data removed]",
      "text/plain": [
       "<matplotlib.figure.Figure at 0x1134b6ba8>"
      ]
     },
     "metadata": {},
     "output_type": "display_data"
    }
   ],
   "source": [
    "v='V1'\n",
    "ntrials,nvox=odata[v]['X'].shape\n",
    "print(ntrials,'trials')\n",
    "print(nvox,v,'voxels')\n",
    "# make a pandas data frame to make manipulation easier\n",
    "df=pandas.DataFrame(odata[v]['X'])\n",
    "df['label']=odata[v]['Y']\n",
    "mask=df.label==1\n",
    "del df['label']\n",
    "df1=df[mask]\n",
    "df2=df[~mask]\n",
    "roimean=df.mean()\n",
    "_=plt.hist(df1.mean(),20,alpha=0.7)\n",
    "_=plt.hist(df2.mean(),20,color='red',alpha=0.7)\n",
    "plt.legend(['Orientation 1','Orientation 2'])\n"
   ]
  },
  {
   "cell_type": "code",
   "execution_count": 59,
   "metadata": {
    "collapsed": false
   },
   "outputs": [
    {
     "data": {
      "text/plain": [
       "(120,)"
      ]
     },
     "execution_count": 59,
     "metadata": {},
     "output_type": "execute_result"
    },
    {
     "data": {
      "image/png": "[encoded data removed]",
      "text/plain": [
       "<matplotlib.figure.Figure at 0x113f08ac8>"
      ]
     },
     "metadata": {},
     "output_type": "display_data"
    }
   ],
   "source": [
    "plt.hist(roimean,20)\n",
    "roimean.shape"
   ]
  },
  {
   "cell_type": "markdown",
   "metadata": {},
   "source": []
  },
  {
   "cell_type": "code",
   "execution_count": null,
   "metadata": {
    "collapsed": true
   },
   "outputs": [],
   "source": []
  },
  {
   "cell_type": "markdown",
   "metadata": {},
   "source": [
    "Fit a simple classifier using balanced 8-fold crossvalidation"
   ]
  },
  {
   "cell_type": "code",
   "execution_count": 9,
   "metadata": {
    "collapsed": false
   },
   "outputs": [
    {
     "name": "stdout",
     "output_type": "stream",
     "text": [
      "{'All': 0.66887417218543044, 'V1': 0.64238410596026485, 'V2': 0.61589403973509937, 'V3': 0.6887417218543046}\n"
     ]
    }
   ],
   "source": [
    "def run_classifier(odata, shuffle=False,nfolds=8,C=1,scale=True):\n",
    "    groups=['All','V1','V2','V3']\n",
    "    acc={}\n",
    "    for g in groups:\n",
    "        features=odata[g]['X']\n",
    "        if scale:\n",
    "            features=sklearn.preprocessing.scale(features)\n",
    "        labels=odata[g]['Y'].copy()\n",
    "        if shuffle:\n",
    "            numpy.random.shuffle(labels)\n",
    "        skf = sklearn.model_selection.StratifiedKFold(8)\n",
    "        pred=numpy.zeros(labels.shape[0])\n",
    "        for train, test in skf.split(features,labels):\n",
    "            clf=sklearn.svm.SVC(C=C)\n",
    "            clf.fit(features[train,:],labels[train])\n",
    "            pred[test]=clf.predict(features[test,:])\n",
    "        acc[g]=sklearn.metrics.accuracy_score(labels, pred)\n",
    "    return acc\n",
    "\n",
    "C=10\n",
    "\n",
    "acc=run_classifier(odata,C=C)\n",
    "print(acc)"
   ]
  },
  {
   "cell_type": "markdown",
   "metadata": {},
   "source": [
    "Now let's see if this is better than we would predict by chance.  we will do this by randomly shuffling the labels and recording the accuracy score for each random run, and then comparing our actual score to that null distribution.  \n",
    "\n",
    "NOTE: This will take a few minutes to complete."
   ]
  },
  {
   "cell_type": "code",
   "execution_count": 11,
   "metadata": {
    "collapsed": false
   },
   "outputs": [],
   "source": [
    "groups=['All','V1','V2','V3']\n",
    "nruns=1000\n",
    "rand_acc=numpy.zeros((nruns,4))\n",
    "for r in range(nruns):\n",
    "    tmp=run_classifier(odata,shuffle=True,C=C)\n",
    "    rand_acc[r,:]=[tmp['All'],tmp['V1'],tmp['V2'],tmp['V3']]"
   ]
  },
  {
   "cell_type": "code",
   "execution_count": 27,
   "metadata": {
    "collapsed": false
   },
   "outputs": [
    {
     "name": "stdout",
     "output_type": "stream",
     "text": [
      "All voxels: 0.669 (p=0.000)\n",
      "V1 voxels: 0.642 (p=0.000)\n",
      "V2 voxels: 0.616 (p=0.000)\n",
      "V3 voxels: 0.689 (p=0.000)\n"
     ]
    }
   ],
   "source": [
    "mean_acc=numpy.mean(rand_acc,0)\n",
    "\n",
    "for i in range(len(groups)):\n",
    "    print('%s voxels: %0.3f (p=%0.3f)'%(groups[i],acc[groups[i]],\n",
    "                    1-scipy.stats.percentileofscore(rand_acc[i,:],acc[groups[i]])/100.))\n"
   ]
  },
  {
   "cell_type": "markdown",
   "metadata": {},
   "source": [
    "__Exercise__: Compare our results to those reported by Harrison & Tong.  How do they compare, and why do you think they might be different?"
   ]
  },
  {
   "cell_type": "code",
   "execution_count": null,
   "metadata": {
    "collapsed": true
   },
   "outputs": [],
   "source": []
  }
 ],
 "metadata": {
  "git": {
   "suppress_outputs": true
  },
  "kernelspec": {
   "display_name": "Python 3",
   "language": "python",
   "name": "python3"
  },
  "language_info": {
   "codemirror_mode": {
    "name": "ipython",
    "version": 3
   },
   "file_extension": ".py",
   "mimetype": "text/x-python",
   "name": "python",
   "nbconvert_exporter": "python",
   "pygments_lexer": "ipython3",
   "version": "3.6.0"
  }
 },
 "nbformat": 4,
 "nbformat_minor": 0
}
