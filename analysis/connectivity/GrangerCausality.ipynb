{
 "cells": [
  {
   "cell_type": "markdown",
   "metadata": {},
   "source": [
    "In this notebook we will show how to perform a Granger Causality analysis, and demonstrate how poorly it performs on our simulated data."
   ]
  },
  {
   "cell_type": "code",
   "execution_count": 4,
   "metadata": {
    "collapsed": false
   },
   "outputs": [
    {
     "name": "stdout",
     "output_type": "stream",
     "text": [
      "A\n",
      "[[-1.  0.  0.  0.  0.]\n",
      " [ 0. -1.  0.  0.  0.]\n",
      " [ 0.  1. -1.  0.  0.]\n",
      " [ 0.  1.  0. -1.  0.]\n",
      " [ 0.  0.  0.  0. -1.]]\n",
      "B\n",
      "[[ 0.  0.  0.  0.  0.]\n",
      " [ 0.  0.  0.  0.  0.]\n",
      " [ 1.  0.  0.  0.  0.]\n",
      " [ 0.  0.  0.  0.  0.]\n",
      " [ 1.  0.  0.  0.  0.]]\n",
      "C\n",
      "[[ 1.]\n",
      " [ 0.]\n",
      " [ 0.]\n",
      " [ 0.]\n",
      " [ 0.]]\n"
     ]
    }
   ],
   "source": [
    "import os,sys\n",
    "import numpy\n",
    "%matplotlib inline\n",
    "import matplotlib.pyplot as plt\n",
    "import statsmodels.tsa.stattools\n",
    "\n",
    "from dcm_sim import sim_dcm_dataset\n",
    "\n",
    "sys.path.insert(0,'../')\n",
    "from utils.graph_utils import show_graph_from_adjmtx,show_graph_from_pattern\n",
    "\n",
    "# first we simulate some data using our DCM model, with the same HRF across all regions\n",
    "\n",
    "_,data_conv,params=sim_dcm_dataset(verbose=True)\n",
    "\n",
    "A=params['A']\n",
    "B=params['B']\n",
    "C=params['C']\n",
    "\n",
    "data=data_conv[range(0,data_conv.shape[0],int(1./params['stepsize']))]\n"
   ]
  },
  {
   "cell_type": "markdown",
   "metadata": {},
   "source": [
    "Now compute Granger causality across all pairs of timeseries"
   ]
  },
  {
   "cell_type": "code",
   "execution_count": 5,
   "metadata": {
    "collapsed": false
   },
   "outputs": [
    {
     "name": "stdout",
     "output_type": "stream",
     "text": [
      "\n",
      "Granger Causality\n",
      "('number of lags (no zero)', 1)\n",
      "ssr based F test:         F=9.1313  , p=0.0027  , df_denom=296, df_num=1\n",
      "ssr based chi2 test:   chi2=9.2239  , p=0.0024  , df=1\n",
      "likelihood ratio test: chi2=9.0845  , p=0.0026  , df=1\n",
      "parameter F test:         F=9.1313  , p=0.0027  , df_denom=296, df_num=1\n",
      "\n",
      "Granger Causality\n",
      "('number of lags (no zero)', 1)\n",
      "ssr based F test:         F=0.3328  , p=0.5644  , df_denom=296, df_num=1\n",
      "ssr based chi2 test:   chi2=0.3362  , p=0.5620  , df=1\n",
      "likelihood ratio test: chi2=0.3360  , p=0.5621  , df=1\n",
      "parameter F test:         F=0.3328  , p=0.5644  , df_denom=296, df_num=1\n",
      "\n",
      "Granger Causality\n",
      "('number of lags (no zero)', 1)\n",
      "ssr based F test:         F=0.0275  , p=0.8684  , df_denom=296, df_num=1\n",
      "ssr based chi2 test:   chi2=0.0278  , p=0.8676  , df=1\n",
      "likelihood ratio test: chi2=0.0278  , p=0.8676  , df=1\n",
      "parameter F test:         F=0.0275  , p=0.8684  , df_denom=296, df_num=1\n",
      "\n",
      "Granger Causality\n",
      "('number of lags (no zero)', 1)\n",
      "ssr based F test:         F=4.3450  , p=0.0380  , df_denom=296, df_num=1\n",
      "ssr based chi2 test:   chi2=4.3890  , p=0.0362  , df=1\n",
      "likelihood ratio test: chi2=4.3571  , p=0.0369  , df=1\n",
      "parameter F test:         F=4.3450  , p=0.0380  , df_denom=296, df_num=1\n",
      "\n",
      "Granger Causality\n",
      "('number of lags (no zero)', 1)\n",
      "ssr based F test:         F=2.0748  , p=0.1508  , df_denom=296, df_num=1\n",
      "ssr based chi2 test:   chi2=2.0959  , p=0.1477  , df=1\n",
      "likelihood ratio test: chi2=2.0886  , p=0.1484  , df=1\n",
      "parameter F test:         F=2.0748  , p=0.1508  , df_denom=296, df_num=1\n",
      "\n",
      "Granger Causality\n",
      "('number of lags (no zero)', 1)\n",
      "ssr based F test:         F=4.3860  , p=0.0371  , df_denom=296, df_num=1\n",
      "ssr based chi2 test:   chi2=4.4304  , p=0.0353  , df=1\n",
      "likelihood ratio test: chi2=4.3979  , p=0.0360  , df=1\n",
      "parameter F test:         F=4.3860  , p=0.0371  , df_denom=296, df_num=1\n",
      "\n",
      "Granger Causality\n",
      "('number of lags (no zero)', 1)\n",
      "ssr based F test:         F=8.5122  , p=0.0038  , df_denom=296, df_num=1\n",
      "ssr based chi2 test:   chi2=8.5985  , p=0.0034  , df=1\n",
      "likelihood ratio test: chi2=8.4772  , p=0.0036  , df=1\n",
      "parameter F test:         F=8.5122  , p=0.0038  , df_denom=296, df_num=1\n",
      "\n",
      "Granger Causality\n",
      "('number of lags (no zero)', 1)\n",
      "ssr based F test:         F=4.7968  , p=0.0293  , df_denom=296, df_num=1\n",
      "ssr based chi2 test:   chi2=4.8454  , p=0.0277  , df=1\n",
      "likelihood ratio test: chi2=4.8066  , p=0.0284  , df=1\n",
      "parameter F test:         F=4.7968  , p=0.0293  , df_denom=296, df_num=1\n",
      "\n",
      "Granger Causality\n",
      "('number of lags (no zero)', 1)\n",
      "ssr based F test:         F=1.3658  , p=0.2435  , df_denom=296, df_num=1\n",
      "ssr based chi2 test:   chi2=1.3796  , p=0.2402  , df=1\n",
      "likelihood ratio test: chi2=1.3764  , p=0.2407  , df=1\n",
      "parameter F test:         F=1.3658  , p=0.2435  , df_denom=296, df_num=1\n",
      "\n",
      "Granger Causality\n",
      "('number of lags (no zero)', 1)\n",
      "ssr based F test:         F=5.3406  , p=0.0215  , df_denom=296, df_num=1\n",
      "ssr based chi2 test:   chi2=5.3947  , p=0.0202  , df=1\n",
      "likelihood ratio test: chi2=5.3466  , p=0.0208  , df=1\n",
      "parameter F test:         F=5.3406  , p=0.0215  , df_denom=296, df_num=1\n",
      "\n",
      "Granger Causality\n",
      "('number of lags (no zero)', 1)\n",
      "ssr based F test:         F=1.6741  , p=0.1967  , df_denom=296, df_num=1\n",
      "ssr based chi2 test:   chi2=1.6911  , p=0.1935  , df=1\n",
      "likelihood ratio test: chi2=1.6863  , p=0.1941  , df=1\n",
      "parameter F test:         F=1.6741  , p=0.1967  , df_denom=296, df_num=1\n",
      "\n",
      "Granger Causality\n",
      "('number of lags (no zero)', 1)\n",
      "ssr based F test:         F=0.0097  , p=0.9214  , df_denom=296, df_num=1\n",
      "ssr based chi2 test:   chi2=0.0098  , p=0.9210  , df=1\n",
      "likelihood ratio test: chi2=0.0098  , p=0.9210  , df=1\n",
      "parameter F test:         F=0.0097  , p=0.9214  , df_denom=296, df_num=1\n",
      "\n",
      "Granger Causality\n",
      "('number of lags (no zero)', 1)\n",
      "ssr based F test:         F=0.3514  , p=0.5538  , df_denom=296, df_num=1\n",
      "ssr based chi2 test:   chi2=0.3550  , p=0.5513  , df=1\n",
      "likelihood ratio test: chi2=0.3548  , p=0.5514  , df=1\n",
      "parameter F test:         F=0.3514  , p=0.5538  , df_denom=296, df_num=1\n",
      "\n",
      "Granger Causality\n",
      "('number of lags (no zero)', 1)\n",
      "ssr based F test:         F=8.8805  , p=0.0031  , df_denom=296, df_num=1\n",
      "ssr based chi2 test:   chi2=8.9705  , p=0.0027  , df=1\n",
      "likelihood ratio test: chi2=8.8385  , p=0.0029  , df=1\n",
      "parameter F test:         F=8.8805  , p=0.0031  , df_denom=296, df_num=1\n",
      "\n",
      "Granger Causality\n",
      "('number of lags (no zero)', 1)\n",
      "ssr based F test:         F=0.6261  , p=0.4294  , df_denom=296, df_num=1\n",
      "ssr based chi2 test:   chi2=0.6325  , p=0.4264  , df=1\n",
      "likelihood ratio test: chi2=0.6318  , p=0.4267  , df=1\n",
      "parameter F test:         F=0.6261  , p=0.4294  , df_denom=296, df_num=1\n",
      "\n",
      "Granger Causality\n",
      "('number of lags (no zero)', 1)\n",
      "ssr based F test:         F=0.0269  , p=0.8699  , df_denom=296, df_num=1\n",
      "ssr based chi2 test:   chi2=0.0272  , p=0.8691  , df=1\n",
      "likelihood ratio test: chi2=0.0272  , p=0.8691  , df=1\n",
      "parameter F test:         F=0.0269  , p=0.8699  , df_denom=296, df_num=1\n",
      "\n",
      "Granger Causality\n",
      "('number of lags (no zero)', 1)\n",
      "ssr based F test:         F=0.5649  , p=0.4529  , df_denom=296, df_num=1\n",
      "ssr based chi2 test:   chi2=0.5706  , p=0.4500  , df=1\n",
      "likelihood ratio test: chi2=0.5701  , p=0.4502  , df=1\n",
      "parameter F test:         F=0.5649  , p=0.4529  , df_denom=296, df_num=1\n",
      "\n",
      "Granger Causality\n",
      "('number of lags (no zero)', 1)\n",
      "ssr based F test:         F=11.1816 , p=0.0009  , df_denom=296, df_num=1\n",
      "ssr based chi2 test:   chi2=11.2950 , p=0.0008  , df=1\n",
      "likelihood ratio test: chi2=11.0868 , p=0.0009  , df=1\n",
      "parameter F test:         F=11.1816 , p=0.0009  , df_denom=296, df_num=1\n",
      "\n",
      "Granger Causality\n",
      "('number of lags (no zero)', 1)\n",
      "ssr based F test:         F=2.8170  , p=0.0943  , df_denom=296, df_num=1\n",
      "ssr based chi2 test:   chi2=2.8456  , p=0.0916  , df=1\n",
      "likelihood ratio test: chi2=2.8321  , p=0.0924  , df=1\n",
      "parameter F test:         F=2.8170  , p=0.0943  , df_denom=296, df_num=1\n",
      "\n",
      "Granger Causality\n",
      "('number of lags (no zero)', 1)\n",
      "ssr based F test:         F=0.1653  , p=0.6846  , df_denom=296, df_num=1\n",
      "ssr based chi2 test:   chi2=0.1670  , p=0.6828  , df=1\n",
      "likelihood ratio test: chi2=0.1670  , p=0.6828  , df=1\n",
      "parameter F test:         F=0.1653  , p=0.6846  , df_denom=296, df_num=1\n"
     ]
    }
   ],
   "source": [
    "gc=numpy.zeros(A.shape)\n",
    "for i in range(A.shape[0]):\n",
    "    for j in range(A.shape[0]):\n",
    "        if i==j:  # don't compute self-connectivity\n",
    "            continue\n",
    "        result=statsmodels.tsa.stattools.grangercausalitytests(data[:,[i,j]],1)\n",
    "        if result[1][0]['params_ftest'][1]<0.05:\n",
    "            gc[i,j]=1\n",
    "        "
   ]
  },
  {
   "cell_type": "code",
   "execution_count": 6,
   "metadata": {
    "collapsed": false
   },
   "outputs": [
    {
     "name": "stdout",
     "output_type": "stream",
     "text": [
      "[(1, 0), (1, 2), (1, 3), (1, 4), (2, 1), (3, 1), (4, 0), (4, 1)]\n",
      "Black: input\n",
      "Red: unmodulated\n"
     ]
    },
    {
     "data": {
      "image/png": "[encoded data removed]",
      "text/plain": [
       "<matplotlib.figure.Figure at 0x10a590fd0>"
      ]
     },
     "metadata": {},
     "output_type": "display_data"
    },
    {
     "name": "stdout",
     "output_type": "stream",
     "text": [
      "[(0, 2), (0, 4), (1, 2), (1, 3), ('u', 0)]\n",
      "Black: input\n",
      "Red: unmodulated\n",
      "Blue: modulated\n"
     ]
    },
    {
     "data": {
      "image/png": "[encoded data removed]",
      "text/plain": [
       "<matplotlib.figure.Figure at 0x10b97be10>"
      ]
     },
     "metadata": {},
     "output_type": "display_data"
    },
    {
     "data": {
      "text/plain": [
       "<networkx.classes.digraph.DiGraph at 0x10a47a650>"
      ]
     },
     "execution_count": 6,
     "metadata": {},
     "output_type": "execute_result"
    }
   ],
   "source": [
    "show_graph_from_adjmtx(gc,numpy.zeros(B.shape),numpy.zeros(C.shape),title='Granger')\n",
    "show_graph_from_adjmtx(A,B,C,title='True model')\n"
   ]
  },
  {
   "cell_type": "markdown",
   "metadata": {},
   "source": [
    "Exercise: Try running this notebook a few times, and watch how the GC results vary from run to run."
   ]
  },
  {
   "cell_type": "code",
   "execution_count": null,
   "metadata": {
    "collapsed": true
   },
   "outputs": [],
   "source": []
  }
 ],
 "metadata": {
  "anaconda-cloud": {},
  "kernelspec": {
   "display_name": "Python 3",
   "language": "python",
   "name": "python3"
  },
  "language_info": {
   "codemirror_mode": {
    "name": "ipython",
    "version": 3
   },
   "file_extension": ".py",
   "mimetype": "text/x-python",
   "name": "python",
   "nbconvert_exporter": "python",
   "pygments_lexer": "ipython3",
   "version": "3.6.6"
  }
 },
 "nbformat": 4,
 "nbformat_minor": 2
}
