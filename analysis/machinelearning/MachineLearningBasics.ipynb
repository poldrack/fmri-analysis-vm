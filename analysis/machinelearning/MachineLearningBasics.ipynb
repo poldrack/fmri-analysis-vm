{
 "cells": [
  {
   "cell_type": "markdown",
   "metadata": {},
   "source": [
    "This notebook provides an introduction to some of the basic concepts of machine learning.\n",
    "\n",
    "Let's start by generating some data to work with.  Let's say that we have a dataset that has tested people on two continuous measures (processing speed and age) and one discrete measure (diagnosis with any psychiatric disorder).  First let's create the continuous data assuming that there is a relationship between these two variables.  We will make a function to generate a new dataset, since we will need to do this multiple times."
   ]
  },
  {
   "cell_type": "code",
   "execution_count": 20,
   "metadata": {
    "collapsed": false
   },
   "outputs": [],
   "source": [
    "import numpy,pandas\n",
    "%matplotlib inline\n",
    "import matplotlib.pyplot as plt\n",
    "import scipy.stats\n",
    "from sklearn.model_selection import LeaveOneOut,KFold\n",
    "from sklearn.preprocessing import PolynomialFeatures,scale\n",
    "from sklearn.linear_model import LinearRegression,LassoCV,Ridge\n",
    "import seaborn as sns\n",
    "import statsmodels.formula.api as sm\n",
    "from statsmodels.tools.tools import add_constant\n",
    "\n",
    "recreate=True\n",
    "if recreate:\n",
    "    seed=20698\n",
    "else:\n",
    "    seed=numpy.ceil(numpy.random.rand()*100000).astype('int')\n",
    "    print(seed)\n",
    "\n",
    "numpy.random.seed(seed)\n",
    "\n",
    "def make_continuous_data(mean=[45,100],var=[10,10],cor=-0.6,N=100):\n",
    "    \"\"\"\n",
    "    generate a synthetic data set with two variables\n",
    "    \"\"\"\n",
    "    cor=numpy.array([[1.,cor],[cor,1.]])\n",
    "    var=numpy.array([[var[0],0],[0,var[1]]])\n",
    "    cov=var.dot(cor).dot(var)\n",
    "    return numpy.random.multivariate_normal(mean,cov,N)"
   ]
  },
  {
   "cell_type": "code",
   "execution_count": 21,
   "metadata": {
    "collapsed": false
   },
   "outputs": [
    {
     "name": "stdout",
     "output_type": "stream",
     "text": [
      "data R-squared: 0.425284\n"
     ]
    },
    {
     "data": {
      "image/png": "[encoded data removed]",
      "text/plain": [
       "<matplotlib.figure.Figure at 0x116393ba8>"
      ]
     },
     "metadata": {},
     "output_type": "display_data"
    }
   ],
   "source": [
    "n=50\n",
    "d=make_continuous_data(N=n)\n",
    "y=d[:,1]\n",
    "plt.scatter(d[:,0],d[:,1])\n",
    "plt.xlabel('age')\n",
    "plt.ylabel('processing speed')\n",
    "\n",
    "print('data R-squared: %f'%numpy.corrcoef(d.T)[0,1]**2)"
   ]
  },
  {
   "cell_type": "markdown",
   "metadata": {},
   "source": [
    "What is the simplest story that we could tell about processing speed these data?  Well, we could simply say that the variable is normal with a mean of zero and a standard deviation of 1.  Let's see how likely the observed processing speed values are given that set of parameters.  First, let's create a function that returns the normal log-likelihood of the data given a set of predicted values.\n"
   ]
  },
  {
   "cell_type": "code",
   "execution_count": 22,
   "metadata": {
    "collapsed": false
   },
   "outputs": [
    {
     "name": "stdout",
     "output_type": "stream",
     "text": [
      "SSR: 517834.563479\n",
      "s2: 1\n",
      "logLike: -258963.228666\n"
     ]
    }
   ],
   "source": [
    "def loglike(y,yhat,s2=None,verbose=True):\n",
    "    N = len(y)\n",
    "    SSR = numpy.sum((y-yhat)**2)\n",
    "    if s2 is None:\n",
    "        # use observed stdev\n",
    "        s2 = SSR / float(N)\n",
    "    logLike = -(n/2.)*numpy.log(s2) - (n/2.)*numpy.log(2*numpy.pi) - SSR/(2*s2)\n",
    "    if verbose:\n",
    "        print('SSR:',SSR)\n",
    "        print('s2:',s2)\n",
    "        print('logLike:',logLike)\n",
    "    return logLike\n",
    "    \n",
    "\n",
    "logLike_null=loglike(y,numpy.zeros(len(y)),s2=1)\n"
   ]
  },
  {
   "cell_type": "markdown",
   "metadata": {},
   "source": [
    "We are pretty sure that the mean of our variables is not zero, so let's compute the mean and see if the likelihood of the data is higher."
   ]
  },
  {
   "cell_type": "code",
   "execution_count": 23,
   "metadata": {
    "collapsed": false
   },
   "outputs": [
    {
     "name": "stdout",
     "output_type": "stream",
     "text": [
      "mean: 101.342983342\n",
      "SSR: 4314.54984688\n",
      "s2: 1\n",
      "logLike: -2203.2218501\n"
     ]
    }
   ],
   "source": [
    "mean=numpy.mean(y)\n",
    "print('mean:',mean)\n",
    "pred=numpy.ones(len(y))*mean\n",
    "logLike_mean=loglike(y,pred,s2=1)\n"
   ]
  },
  {
   "cell_type": "markdown",
   "metadata": {},
   "source": [
    "What about using the observed variance as well?"
   ]
  },
  {
   "cell_type": "code",
   "execution_count": 24,
   "metadata": {
    "collapsed": false
   },
   "outputs": [
    {
     "name": "stdout",
     "output_type": "stream",
     "text": [
      "variance 86.2909969376\n",
      "SSR: 4314.54984688\n",
      "s2: 86.2909969376\n",
      "logLike: -182.390058405\n"
     ]
    }
   ],
   "source": [
    "var=numpy.var(y)\n",
    "print('variance',var)\n",
    "pred=numpy.ones(len(y))*mean\n",
    "logLike_mean_std=loglike(y,pred)\n"
   ]
  },
  {
   "cell_type": "markdown",
   "metadata": {},
   "source": [
    "Is there a relation between processing speed and age? Compute the linear regression equation to find out. "
   ]
  },
  {
   "cell_type": "code",
   "execution_count": 25,
   "metadata": {
    "collapsed": false
   },
   "outputs": [
    {
     "name": "stdout",
     "output_type": "stream",
     "text": [
      "                            OLS Regression Results                            \n",
      "==============================================================================\n",
      "Dep. Variable:                      y   R-squared:                       0.425\n",
      "Model:                            OLS   Adj. R-squared:                  0.413\n",
      "Method:                 Least Squares   F-statistic:                     35.52\n",
      "Date:                Thu, 22 Dec 2016   Prob (F-statistic):           2.89e-07\n",
      "Time:                        09:07:56   Log-Likelihood:                -168.54\n",
      "No. Observations:                  50   AIC:                             341.1\n",
      "Df Residuals:                      48   BIC:                             344.9\n",
      "Df Model:                           1                                         \n",
      "Covariance Type:            nonrobust                                         \n",
      "==============================================================================\n",
      "                 coef    std err          t      P>|t|      [95.0% Conf. Int.]\n",
      "------------------------------------------------------------------------------\n",
      "const        131.3701      5.140     25.560      0.000       121.036   141.704\n",
      "x1            -0.6666      0.112     -5.960      0.000        -0.891    -0.442\n",
      "==============================================================================\n",
      "Omnibus:                        0.292   Durbin-Watson:                   2.202\n",
      "Prob(Omnibus):                  0.864   Jarque-Bera (JB):                0.254\n",
      "Skew:                          -0.160   Prob(JB):                        0.881\n",
      "Kurtosis:                       2.858   Cond. No.                         232.\n",
      "==============================================================================\n",
      "\n",
      "Warnings:\n",
      "[1] Standard Errors assume that the covariance matrix of the errors is correctly specified.\n",
      "SSR: 2479.63941013\n",
      "s2: 49.5927882027\n",
      "logLike: -168.543062261\n"
     ]
    },
    {
     "data": {
      "text/plain": [
       "<matplotlib.collections.PathCollection at 0x117037780>"
      ]
     },
     "execution_count": 25,
     "metadata": {},
     "output_type": "execute_result"
    },
    {
     "data": {
      "image/png": "[encoded data removed]",
      "text/plain": [
       "<matplotlib.figure.Figure at 0x115daba20>"
      ]
     },
     "metadata": {},
     "output_type": "display_data"
    }
   ],
   "source": [
    "X=d[:,0]\n",
    "X=add_constant(X)\n",
    "result = sm.OLS( y, X ).fit()\n",
    "print(result.summary())\n",
    "intercept=result.params[0]\n",
    "slope=result.params[1]\n",
    "pred=result.predict(X)\n",
    "logLike_ols=loglike(y,pred)\n",
    "plt.scatter(y,pred)"
   ]
  },
  {
   "cell_type": "code",
   "execution_count": 26,
   "metadata": {
    "collapsed": false
   },
   "outputs": [
    {
     "name": "stdout",
     "output_type": "stream",
     "text": [
      "processing speed = 131.370054 + -0.666591*age\n",
      "p =0.000000\n",
      "rsquared=0.425284\n"
     ]
    },
    {
     "data": {
      "image/png": "[encoded data removed]",
      "text/plain": [
       "<matplotlib.figure.Figure at 0x116396eb8>"
      ]
     },
     "metadata": {},
     "output_type": "display_data"
    }
   ],
   "source": [
    "print('processing speed = %f + %f*age'%(intercept,slope))\n",
    "print('p =%f'%result.pvalues[1])\n",
    "\n",
    "def get_RMSE(y,pred):\n",
    "    return numpy.sqrt(numpy.mean((y - pred)**2))\n",
    "\n",
    "def get_R2(y,pred):\n",
    "    \"\"\" compute r-squared\"\"\"\n",
    "    return numpy.corrcoef(y,pred)[0,1]**2\n",
    "\n",
    "ax=plt.scatter(d[:,0],d[:,1])\n",
    "plt.xlabel('age')\n",
    "plt.ylabel('processing speed')\n",
    "plt.plot(d[:,0], slope * d[:,0] + intercept, color='red')\n",
    "# plot residual lines\n",
    "d_predicted=slope*d[:,0] + intercept\n",
    "for i in range(d.shape[0]):\n",
    "    x=d[i,0]\n",
    "    y=d[i,1]\n",
    "    plt.plot([x,x],[d_predicted[i],y],color='blue')\n",
    "\n",
    "RMSE=get_RMSE(d[:,1],d_predicted)\n",
    "rsq=get_R2(d[:,1],d_predicted)\n",
    "print('rsquared=%f'%rsq)"
   ]
  },
  {
   "cell_type": "markdown",
   "metadata": {},
   "source": [
    "This shows us that linear regression can provide a simple description of a complex dataset - we can describe the entire dataset in 2 numbers. Now let's ask how good this description is for a new dataset generated by the same process:\n"
   ]
  },
  {
   "cell_type": "code",
   "execution_count": 27,
   "metadata": {
    "collapsed": false
   },
   "outputs": [
    {
     "name": "stdout",
     "output_type": "stream",
     "text": [
      "R2 for new data: 0.376184\n"
     ]
    },
    {
     "data": {
      "text/plain": [
       "[<matplotlib.lines.Line2D at 0x116ce6978>]"
      ]
     },
     "execution_count": 27,
     "metadata": {},
     "output_type": "execute_result"
    },
    {
     "data": {
      "image/png": "[encoded data removed]",
      "text/plain": [
       "<matplotlib.figure.Figure at 0x116c8de48>"
      ]
     },
     "metadata": {},
     "output_type": "display_data"
    }
   ],
   "source": [
    "d_new=make_continuous_data(N=n)\n",
    "d_new_predicted=intercept + slope*d_new[:,0]\n",
    "RMSE_new=get_RMSE(d_new[:,1],d_new_predicted)\n",
    "rsq_new=get_R2(d_new[:,1],d_new_predicted)\n",
    "print('R2 for new data: %f'%rsq_new)\n",
    "\n",
    "ax=plt.scatter(d_new[:,0],d_new[:,1])\n",
    "plt.xlabel('age')\n",
    "plt.ylabel('processing speed')\n",
    "plt.plot(d_new[:,0], slope * d_new[:,0] + intercept, color='red')\n"
   ]
  },
  {
   "cell_type": "markdown",
   "metadata": {},
   "source": [
    "Now let's do this 100 times and look at how variable the fits are.  "
   ]
  },
  {
   "cell_type": "code",
   "execution_count": 28,
   "metadata": {
    "collapsed": false
   },
   "outputs": [
    {
     "data": {
      "image/png": "[encoded data removed]",
      "text/plain": [
       "<matplotlib.figure.Figure at 0x1164d5160>"
      ]
     },
     "metadata": {},
     "output_type": "display_data"
    }
   ],
   "source": [
    "nruns=100\n",
    "slopes=numpy.zeros(nruns)\n",
    "intercepts=numpy.zeros(nruns)\n",
    "rsquared=numpy.zeros(nruns)\n",
    "\n",
    "fig = plt.figure()\n",
    "ax = fig.gca()\n",
    "\n",
    "for i in range(nruns):\n",
    "    data=make_continuous_data(N=n)\n",
    "    slopes[i],intercepts[i],_,_,_=scipy.stats.linregress(data[:,0],data[:,1])\n",
    "    ax.plot(data[:,0], slopes[i] * data[:,0] + intercepts[i], color='red', alpha=0.05)\n",
    "    pred_orig=intercept + slope*data[:,0]\n",
    "    rsquared[i]=get_R2(data[:,1],pred_orig)\n"
   ]
  },
  {
   "cell_type": "code",
   "execution_count": 29,
   "metadata": {
    "collapsed": false
   },
   "outputs": [
    {
     "name": "stdout",
     "output_type": "stream",
     "text": [
      "Original R2: 0.425284\n",
      "Mean R2 for new datasets on original model: 0.373708\n"
     ]
    }
   ],
   "source": [
    "print('Original R2: %f'%rsq)\n",
    "print('Mean R2 for new datasets on original model: %f'%numpy.mean(rsquared))\n"
   ]
  },
  {
   "cell_type": "markdown",
   "metadata": {},
   "source": [
    "### Cross-validation\n",
    "\n",
    "The results above show that the fit of the model to the observed data overestimates our ability to predict on new data.  In many cases we would like to be able to quantify how well our model generalizes to new data, but it's often not possible to collect additional data.  The concept of *cross-validation* provides us with a way to measure how well a model generalizes.  The idea is to iteratively train the model on subsets of the data and then test the model on the left-out portion.  Let's first see what cross-validation looks like.  Perhaps the simplest version to understand is \"leave-one-out\" crossvalidation, so let's look at that.  Here is what the training and test datasets would look like for a dataset with 10 observations; in reality this is way too few observations, but we will use it as an exmaple"
   ]
  },
  {
   "cell_type": "code",
   "execution_count": 30,
   "metadata": {
    "collapsed": false
   },
   "outputs": [
    {
     "name": "stdout",
     "output_type": "stream",
     "text": [
      "train: [1 2 3 4 5 6 7 8 9] test: [0]\n",
      "train: [0 2 3 4 5 6 7 8 9] test: [1]\n",
      "train: [0 1 3 4 5 6 7 8 9] test: [2]\n",
      "train: [0 1 2 4 5 6 7 8 9] test: [3]\n",
      "train: [0 1 2 3 5 6 7 8 9] test: [4]\n",
      "train: [0 1 2 3 4 6 7 8 9] test: [5]\n",
      "train: [0 1 2 3 4 5 7 8 9] test: [6]\n",
      "train: [0 1 2 3 4 5 6 8 9] test: [7]\n",
      "train: [0 1 2 3 4 5 6 7 9] test: [8]\n",
      "train: [0 1 2 3 4 5 6 7 8] test: [9]\n"
     ]
    }
   ],
   "source": [
    "# initialize the sklearn leave-one-out operator\n",
    "loo=LeaveOneOut()  \n",
    "\n",
    "for train,test in loo.split(range(10)):\n",
    "    print('train:',train,'test:',test)"
   ]
  },
  {
   "cell_type": "markdown",
   "metadata": {},
   "source": [
    "It is often more common to use larger test folds, both to speed up performance (since LOO can require lots of model fitting when there are a large number of observations) and because LOO error estimates can have high variance due to the fact that the models are so highly correlated.  This is referred to as K-fold cross-validation; generally we want to choose K somewhere around 5-10.  It's generally a good idea to shuffle the order of the observations so that the folds are grouped randomly."
   ]
  },
  {
   "cell_type": "code",
   "execution_count": 31,
   "metadata": {
    "collapsed": false
   },
   "outputs": [
    {
     "name": "stdout",
     "output_type": "stream",
     "text": [
      "train: [0 2 3 5 6 7 8 9] test: [1 4]\n",
      "train: [0 1 3 4 5 6 7 9] test: [2 8]\n",
      "train: [0 1 2 3 4 5 7 8] test: [6 9]\n",
      "train: [0 1 2 4 5 6 8 9] test: [3 7]\n",
      "train: [1 2 3 4 6 7 8 9] test: [0 5]\n"
     ]
    }
   ],
   "source": [
    "# initialize the sklearn leave-one-out operator\n",
    "kf=KFold(n_splits=5,shuffle=True)  \n",
    "\n",
    "for train,test in kf.split(range(10)):\n",
    "    print('train:',train,'test:',test)"
   ]
  },
  {
   "cell_type": "markdown",
   "metadata": {},
   "source": [
    "Now let's perform leave-one-out cross-validation on our original dataset, so that we can compare it to the performance on new datasets.  We expect that the correlation between LOO estimates and actual data should be very similar to the Mean R2 for new datasets.  We can also plot a histogram of the estimates, to see how they vary across folds."
   ]
  },
  {
   "cell_type": "code",
   "execution_count": 32,
   "metadata": {
    "collapsed": false
   },
   "outputs": [
    {
     "name": "stdout",
     "output_type": "stream",
     "text": [
      "R2 for leave-one-out prediction: 0.263661\n"
     ]
    },
    {
     "data": {
      "text/plain": [
       "<matplotlib.text.Text at 0x1174052b0>"
      ]
     },
     "execution_count": 32,
     "metadata": {},
     "output_type": "execute_result"
    },
    {
     "data": {
      "image/png": "[encoded data removed]",
      "text/plain": [
       "<matplotlib.figure.Figure at 0x117349390>"
      ]
     },
     "metadata": {},
     "output_type": "display_data"
    }
   ],
   "source": [
    "loo=LeaveOneOut()\n",
    "\n",
    "slopes_loo=numpy.zeros(n)\n",
    "intercepts_loo=numpy.zeros(n)\n",
    "pred=numpy.zeros(n)\n",
    "\n",
    "ctr=0\n",
    "for train,test in loo.split(range(n)):\n",
    "    slopes_loo[ctr],intercepts_loo[ctr],_,_,_=scipy.stats.linregress(d[train,0],d[train,1])\n",
    "    pred[ctr]=intercepts_loo[ctr] + slopes_loo[ctr]*data[test,0]\n",
    "    ctr+=1\n",
    "\n",
    "print('R2 for leave-one-out prediction: %f'%get_R2(pred,data[:,1]))\n",
    "\n",
    "plt.figure(figsize=(12,5))\n",
    "plt.subplot(1,2,1)\n",
    "_=plt.hist(slopes_loo,20)\n",
    "plt.xlabel('slope estimate')\n",
    "plt.ylabel('frequency')\n",
    "plt.subplot(1,2,2)\n",
    "_=plt.hist(intercepts_loo,20)\n",
    "plt.xlabel('intercept estimate')\n",
    "plt.ylabel('frequency')\n"
   ]
  },
  {
   "cell_type": "markdown",
   "metadata": {},
   "source": [
    "Now let's look at the effect of outliers on in-sample correlation and out-of-sample prediction.\n"
   ]
  },
  {
   "cell_type": "code",
   "execution_count": 33,
   "metadata": {
    "collapsed": false
   },
   "outputs": [
    {
     "name": "stdout",
     "output_type": "stream",
     "text": [
      "R2 for regression with outlier: 0.740741\n",
      "R2 for leave-one-out prediction: 0.001384\n"
     ]
    },
    {
     "data": {
      "image/png": "[encoded data removed]",
      "text/plain": [
       "<matplotlib.figure.Figure at 0x1173ede80>"
      ]
     },
     "metadata": {},
     "output_type": "display_data"
    }
   ],
   "source": [
    "# add an outlier\n",
    "data_null=make_continuous_data(N=n,cor=0.0)\n",
    "outlier_multiplier=2.0\n",
    "\n",
    "data=numpy.vstack((data_null,[numpy.max(data_null[:,0])*outlier_multiplier,\n",
    "                         numpy.max(data_null[:,1])*outlier_multiplier*-1]))\n",
    "plt.scatter(data[:,0],data[:,1])\n",
    "slope,intercept,r,p,se=scipy.stats.linregress(data[:,0],data[:,1])\n",
    "plt.plot([numpy.min(data[:,0]),intercept + slope*numpy.min(data[:,0])],\n",
    "         [numpy.max(data[:,0]),intercept + slope*numpy.max(data[:,0])])\n",
    "rsq_outlier=r**2\n",
    "print('R2 for regression with outlier: %f'%rsq_outlier)\n",
    "\n",
    "loo=LeaveOneOut()\n",
    "\n",
    "pred_outlier=numpy.zeros(data.shape[0])\n",
    "\n",
    "ctr=0\n",
    "for train,test in loo.split(range(data.shape[0])):\n",
    "    s,i,_,_,_=scipy.stats.linregress(data[train,0],data[train,1])\n",
    "    pred_outlier[ctr]=i + s*data[test,0]\n",
    "    ctr+=1\n",
    "\n",
    "print('R2 for leave-one-out prediction: %f'%get_R2(pred_outlier,data[:,1]))"
   ]
  },
  {
   "cell_type": "markdown",
   "metadata": {},
   "source": [
    "### Model selection\n",
    "\n",
    "Often when we are fitting models to data we have to make decisions about the complexity of the model; after all, if the model has as many parameters as there are data points then we can fit the data exactly, but as we saw above, this model will not generalize very well to other datasets.\n",
    "\n",
    "\n",
    "To see how we can use cross-validation to select our model complexity, let's generate some data with a certain polynomial order, and see whether crossvalidation can find the right model order.  "
   ]
  },
  {
   "cell_type": "code",
   "execution_count": 34,
   "metadata": {
    "collapsed": false
   },
   "outputs": [
    {
     "data": {
      "image/png": "[encoded data removed]",
      "text/plain": [
       "<matplotlib.figure.Figure at 0x11761f208>"
      ]
     },
     "metadata": {},
     "output_type": "display_data"
    }
   ],
   "source": [
    "# from https://gist.github.com/iizukak/1287876\n",
    "def gram_schmidt_columns(X):\n",
    "    Q, R = numpy.linalg.qr(X)\n",
    "    return Q\n",
    "\n",
    "def make_continuous_data_poly(mean=0,var=1,betaval=5,order=1,N=100):\n",
    "    \"\"\"\n",
    "    generate a synthetic data set with two variables\n",
    "    allowing polynomial functions up to 5-th order\n",
    "    \"\"\"\n",
    "    x=numpy.random.randn(N)\n",
    "    x=x-numpy.mean(x)\n",
    "    pf=PolynomialFeatures(5,include_bias=False)\n",
    "\n",
    "    x_poly=gram_schmidt_columns(pf.fit_transform(x[:,numpy.newaxis]))\n",
    "\n",
    "    betas=numpy.zeros(5)\n",
    "    betas[0]=mean\n",
    "    for i in range(order):\n",
    "        betas[i]=betaval\n",
    "    func=x_poly.dot(betas)+numpy.random.randn(N)*var\n",
    "    d=numpy.vstack((x,func)).T\n",
    "    return d,x_poly\n",
    "\n",
    "n=25\n",
    "trueorder=2\n",
    "data,x_poly=make_continuous_data_poly(N=n,order=trueorder)\n",
    "\n",
    "# fit models of increasing complexity\n",
    "npolyorders=7\n",
    "\n",
    "plt.figure()\n",
    "plt.scatter(data[:,0],data[:,1])\n",
    "plt.title('fitted data')\n",
    "\n",
    "xp=numpy.linspace(numpy.min(data[:,0]),numpy.max(data[:,0]),100)\n",
    "\n",
    "for i in range(npolyorders):\n",
    "    f = numpy.polyfit(data[:,0], data[:,1], i)\n",
    "    p=numpy.poly1d(f)\n",
    "    plt.plot(xp,p(xp))\n",
    "plt.legend(['%d'%i for i in range(npolyorders)])\n",
    "\n",
    "# compute in-sample and out-of-sample error using LOO\n",
    "loo=LeaveOneOut()\n",
    "pred=numpy.zeros((n,npolyorders))\n",
    "mean_trainerr=numpy.zeros(npolyorders)\n",
    "prederr=numpy.zeros(npolyorders)\n",
    "\n",
    "for i in range(npolyorders):\n",
    "    ctr=0\n",
    "    trainerr=numpy.zeros(n)\n",
    "    for train,test in loo.split(range(data.shape[0])):\n",
    "        f = numpy.polyfit(data[train,0], data[train,1], i)\n",
    "        p=numpy.poly1d(f)\n",
    "        trainerr[ctr]=numpy.sqrt(numpy.mean((data[train,1]-p(data[train,0]))**2))\n",
    "        pred[test,i]=p(data[test,0])\n",
    "        ctr+=1\n",
    "    mean_trainerr[i]=numpy.mean(trainerr)\n",
    "    prederr[i]=numpy.sqrt(numpy.mean((data[:,1]-pred[:,i])**2))\n",
    "    "
   ]
  },
  {
   "cell_type": "code",
   "execution_count": 35,
   "metadata": {
    "collapsed": false
   },
   "outputs": [
    {
     "name": "stdout",
     "output_type": "stream",
     "text": [
      "True order: 2\n",
      "Order estimated by cross validation: 2\n"
     ]
    },
    {
     "data": {
      "image/png": "[encoded data removed]",
      "text/plain": [
       "<matplotlib.figure.Figure at 0x1173da8d0>"
      ]
     },
     "metadata": {},
     "output_type": "display_data"
    }
   ],
   "source": [
    "plt.plot(range(npolyorders),mean_trainerr)\n",
    "plt.plot(range(npolyorders),prederr,color='red')\n",
    "plt.xlabel('Polynomial order')\n",
    "plt.ylabel('root mean squared error')\n",
    "plt.legend(['training error','test error'],loc=9)\n",
    "plt.plot([numpy.argmin(prederr),numpy.argmin(prederr)],\n",
    "         [numpy.min(mean_trainerr),numpy.max(prederr)],'k--')\n",
    "plt.text(0.5,numpy.max(mean_trainerr),'underfitting')\n",
    "plt.text(4.5,numpy.max(mean_trainerr),'overfitting')\n",
    "\n",
    "print('True order:',trueorder)\n",
    "print('Order estimated by cross validation:',numpy.argmin(prederr))"
   ]
  },
  {
   "cell_type": "markdown",
   "metadata": {
    "collapsed": true
   },
   "source": [
    "### Bias-variance tradeoffs\n",
    "\n",
    "Another way to think about model complexity is in terms of bias-variance tradeoffs.  Bias is the average distance between the prediction of our model and the correct value, whereas variance is the average distance between different predictions from the model.  In standard statistics classes it is often taken as a given that an unbiased estimate is always best, but within machine learning we will often see that a bit of bias can go a long way towards reducing variance, and that some kinds of bias make particular sense.\n",
    "\n",
    "Let's start with an example using linear regression.  First, we will generate a dataset with 20 variables and 100 observations, but only two of the variables are actually related to the outcome (the rest are simply random noise).  "
   ]
  },
  {
   "cell_type": "code",
   "execution_count": 36,
   "metadata": {
    "collapsed": true
   },
   "outputs": [],
   "source": [
    "def make_larger_dataset(beta,n,sd=1):\n",
    "    X=numpy.random.randn(n,len(beta)) # design matrix\n",
    "    beta=numpy.array(beta)\n",
    "    y=X.dot(beta)+numpy.random.randn(n)*sd\n",
    "    return(y-numpy.mean(y),X)\n",
    "    "
   ]
  },
  {
   "cell_type": "markdown",
   "metadata": {},
   "source": [
    "Now let's fit two different models to the data that we will generate.  First, we will fit a standard linear regression model, using ordinary least squares.  This is the best linear unbiased estimator for the regression model.  We will also fit a model that uses *regularization*, which places some constraints on the parameter estimates. In this case, we use the Lasso model, which minimizes the sum of squares while also constraining (or *penalizing*) the sum of the absolute parameter estimates (known as an L1 penalty).  The parameter estimates of this model will be biased towards zero, and will be *sparse*, meaning that most of the estimates will be exactly zero.\n",
    "\n",
    "One complication of the Lasso model is that we need to select a value for the alpha parameter, which determines how much penalty there will be.  We will use crossvalidation within the training data set to do this; the sklearn LassoCV() function does it for us automatically.  Let's generate a function that can run both standard regression and Lasso regression."
   ]
  },
  {
   "cell_type": "code",
   "execution_count": 37,
   "metadata": {
    "collapsed": false
   },
   "outputs": [],
   "source": [
    "def compare_lr_lasso(n=100,nvars=20,n_splits=8,sd=1):\n",
    "    beta=numpy.zeros(nvars)\n",
    "    beta[0]=1\n",
    "    beta[1]=-1\n",
    "    y,X=make_larger_dataset(beta,100,sd=1)\n",
    "    \n",
    "    kf=KFold(n_splits=n_splits,shuffle=True)\n",
    "    pred_lr=numpy.zeros(X.shape[0])\n",
    "    coefs_lr=numpy.zeros((n_splits,X.shape[1]))\n",
    "    pred_lasso=numpy.zeros(X.shape[0])\n",
    "    coefs_lasso=numpy.zeros((n_splits,X.shape[1]))\n",
    "    lr=LinearRegression()\n",
    "    lasso=LassoCV()\n",
    "    ctr=0\n",
    "    for train,test in kf.split(X):\n",
    "        Xtrain=X[train,:]\n",
    "        Ytrain=y[train]\n",
    "        lr.fit(Xtrain,Ytrain)\n",
    "        lasso.fit(Xtrain,Ytrain)\n",
    "        pred_lr[test]=lr.predict(X[test,:])\n",
    "        coefs_lr[ctr,:]=lr.coef_\n",
    "        pred_lasso[test]=lasso.predict(X[test,:])\n",
    "        coefs_lasso[ctr,:]=lasso.coef_\n",
    "        ctr+=1\n",
    "    prederr_lr=numpy.sum((pred_lr-y)**2)\n",
    "    prederr_lasso=numpy.sum((pred_lasso-y)**2)\n",
    "    return [prederr_lr,prederr_lasso],numpy.mean(coefs_lr,0),numpy.mean(coefs_lasso,0),beta\n",
    "\n"
   ]
  },
  {
   "cell_type": "markdown",
   "metadata": {},
   "source": [
    "Let's run the simulation 100 times and look at the average parameter estimates."
   ]
  },
  {
   "cell_type": "code",
   "execution_count": 38,
   "metadata": {
    "collapsed": false
   },
   "outputs": [
    {
     "name": "stderr",
     "output_type": "stream",
     "text": [
      "/Users/poldrack/anaconda/envs/py34/lib/python3.4/site-packages/scipy/linalg/basic.py:884: RuntimeWarning: internal gelsd driver lwork query error, required iwork dimension not returned. This is likely the result of LAPACK bug 0038, fixed in LAPACK 3.2.2 (released July 21, 2010). Falling back to 'gelss' driver.\n",
      "  warnings.warn(mesg, RuntimeWarning)\n"
     ]
    },
    {
     "name": "stdout",
     "output_type": "stream",
     "text": [
      "mean sum of squared error:\n",
      "linear regression: 128.04471132\n",
      "lasso: 109.413542654\n"
     ]
    }
   ],
   "source": [
    "nsims=100\n",
    "prederr=numpy.zeros((nsims,2))\n",
    "lrcoef=numpy.zeros((nsims,20))\n",
    "lassocoef=numpy.zeros((nsims,20))\n",
    "\n",
    "for i in range(nsims):\n",
    "    prederr[i,:],lrcoef[i,:],lassocoef[i,:],beta=compare_lr_lasso()\n",
    "    \n",
    "print('mean sum of squared error:')\n",
    "print('linear regression:',numpy.mean(prederr,0)[0])\n",
    "print('lasso:',numpy.mean(prederr,0)[1])"
   ]
  },
  {
   "cell_type": "markdown",
   "metadata": {},
   "source": [
    "The prediction error for the Lasso model is substantially less than the error for the linear regression model.  What about the parameters? Let's display the mean parameter estimates and their variabilty across runs."
   ]
  },
  {
   "cell_type": "code",
   "execution_count": 39,
   "metadata": {
    "collapsed": false
   },
   "outputs": [
    {
     "data": {
      "text/html": [
       "<div>\n",
       "<table border=\"1\" class=\"dataframe\">\n",
       "  <thead>\n",
       "    <tr style=\"text-align: right;\">\n",
       "      <th></th>\n",
       "      <th>Lasso (mean)</th>\n",
       "      <th>Lasso(stdev)</th>\n",
       "      <th>Regression (mean)</th>\n",
       "      <th>Regression(stdev)</th>\n",
       "      <th>True value</th>\n",
       "    </tr>\n",
       "  </thead>\n",
       "  <tbody>\n",
       "    <tr>\n",
       "      <th>0</th>\n",
       "      <td>0.872333</td>\n",
       "      <td>0.090229</td>\n",
       "      <td>1.008043</td>\n",
       "      <td>0.108360</td>\n",
       "      <td>1.0</td>\n",
       "    </tr>\n",
       "    <tr>\n",
       "      <th>1</th>\n",
       "      <td>-0.867128</td>\n",
       "      <td>0.112791</td>\n",
       "      <td>-1.008489</td>\n",
       "      <td>0.118108</td>\n",
       "      <td>-1.0</td>\n",
       "    </tr>\n",
       "    <tr>\n",
       "      <th>2</th>\n",
       "      <td>0.001801</td>\n",
       "      <td>0.035974</td>\n",
       "      <td>0.012622</td>\n",
       "      <td>0.112245</td>\n",
       "      <td>0.0</td>\n",
       "    </tr>\n",
       "    <tr>\n",
       "      <th>3</th>\n",
       "      <td>0.002453</td>\n",
       "      <td>0.040318</td>\n",
       "      <td>-0.007810</td>\n",
       "      <td>0.120471</td>\n",
       "      <td>0.0</td>\n",
       "    </tr>\n",
       "    <tr>\n",
       "      <th>4</th>\n",
       "      <td>-0.003408</td>\n",
       "      <td>0.034733</td>\n",
       "      <td>-0.000104</td>\n",
       "      <td>0.123107</td>\n",
       "      <td>0.0</td>\n",
       "    </tr>\n",
       "    <tr>\n",
       "      <th>5</th>\n",
       "      <td>0.003916</td>\n",
       "      <td>0.037916</td>\n",
       "      <td>0.017360</td>\n",
       "      <td>0.121194</td>\n",
       "      <td>0.0</td>\n",
       "    </tr>\n",
       "    <tr>\n",
       "      <th>6</th>\n",
       "      <td>0.000010</td>\n",
       "      <td>0.040394</td>\n",
       "      <td>0.008228</td>\n",
       "      <td>0.121575</td>\n",
       "      <td>0.0</td>\n",
       "    </tr>\n",
       "    <tr>\n",
       "      <th>7</th>\n",
       "      <td>0.001843</td>\n",
       "      <td>0.039537</td>\n",
       "      <td>-0.001793</td>\n",
       "      <td>0.123341</td>\n",
       "      <td>0.0</td>\n",
       "    </tr>\n",
       "    <tr>\n",
       "      <th>8</th>\n",
       "      <td>-0.002537</td>\n",
       "      <td>0.036670</td>\n",
       "      <td>-0.009299</td>\n",
       "      <td>0.114992</td>\n",
       "      <td>0.0</td>\n",
       "    </tr>\n",
       "    <tr>\n",
       "      <th>9</th>\n",
       "      <td>0.003919</td>\n",
       "      <td>0.049977</td>\n",
       "      <td>-0.000174</td>\n",
       "      <td>0.132553</td>\n",
       "      <td>0.0</td>\n",
       "    </tr>\n",
       "    <tr>\n",
       "      <th>10</th>\n",
       "      <td>-0.002600</td>\n",
       "      <td>0.039582</td>\n",
       "      <td>-0.007057</td>\n",
       "      <td>0.118153</td>\n",
       "      <td>0.0</td>\n",
       "    </tr>\n",
       "    <tr>\n",
       "      <th>11</th>\n",
       "      <td>-0.009469</td>\n",
       "      <td>0.051625</td>\n",
       "      <td>-0.010412</td>\n",
       "      <td>0.129706</td>\n",
       "      <td>0.0</td>\n",
       "    </tr>\n",
       "    <tr>\n",
       "      <th>12</th>\n",
       "      <td>0.000240</td>\n",
       "      <td>0.027053</td>\n",
       "      <td>-0.005188</td>\n",
       "      <td>0.110052</td>\n",
       "      <td>0.0</td>\n",
       "    </tr>\n",
       "    <tr>\n",
       "      <th>13</th>\n",
       "      <td>-0.003461</td>\n",
       "      <td>0.041592</td>\n",
       "      <td>-0.005461</td>\n",
       "      <td>0.122515</td>\n",
       "      <td>0.0</td>\n",
       "    </tr>\n",
       "    <tr>\n",
       "      <th>14</th>\n",
       "      <td>0.002013</td>\n",
       "      <td>0.042723</td>\n",
       "      <td>0.008071</td>\n",
       "      <td>0.117410</td>\n",
       "      <td>0.0</td>\n",
       "    </tr>\n",
       "    <tr>\n",
       "      <th>15</th>\n",
       "      <td>-0.003290</td>\n",
       "      <td>0.027992</td>\n",
       "      <td>-0.002049</td>\n",
       "      <td>0.104343</td>\n",
       "      <td>0.0</td>\n",
       "    </tr>\n",
       "    <tr>\n",
       "      <th>16</th>\n",
       "      <td>0.002855</td>\n",
       "      <td>0.037609</td>\n",
       "      <td>0.009892</td>\n",
       "      <td>0.114479</td>\n",
       "      <td>0.0</td>\n",
       "    </tr>\n",
       "    <tr>\n",
       "      <th>17</th>\n",
       "      <td>0.000268</td>\n",
       "      <td>0.023506</td>\n",
       "      <td>0.000123</td>\n",
       "      <td>0.089939</td>\n",
       "      <td>0.0</td>\n",
       "    </tr>\n",
       "    <tr>\n",
       "      <th>18</th>\n",
       "      <td>-0.006911</td>\n",
       "      <td>0.038838</td>\n",
       "      <td>-0.016241</td>\n",
       "      <td>0.116901</td>\n",
       "      <td>0.0</td>\n",
       "    </tr>\n",
       "    <tr>\n",
       "      <th>19</th>\n",
       "      <td>-0.000595</td>\n",
       "      <td>0.032206</td>\n",
       "      <td>-0.012438</td>\n",
       "      <td>0.113370</td>\n",
       "      <td>0.0</td>\n",
       "    </tr>\n",
       "  </tbody>\n",
       "</table>\n",
       "</div>"
      ],
      "text/plain": [
       "    Lasso (mean)  Lasso(stdev)  Regression (mean)  Regression(stdev)  \\\n",
       "0       0.872333      0.090229           1.008043           0.108360   \n",
       "1      -0.867128      0.112791          -1.008489           0.118108   \n",
       "2       0.001801      0.035974           0.012622           0.112245   \n",
       "3       0.002453      0.040318          -0.007810           0.120471   \n",
       "4      -0.003408      0.034733          -0.000104           0.123107   \n",
       "5       0.003916      0.037916           0.017360           0.121194   \n",
       "6       0.000010      0.040394           0.008228           0.121575   \n",
       "7       0.001843      0.039537          -0.001793           0.123341   \n",
       "8      -0.002537      0.036670          -0.009299           0.114992   \n",
       "9       0.003919      0.049977          -0.000174           0.132553   \n",
       "10     -0.002600      0.039582          -0.007057           0.118153   \n",
       "11     -0.009469      0.051625          -0.010412           0.129706   \n",
       "12      0.000240      0.027053          -0.005188           0.110052   \n",
       "13     -0.003461      0.041592          -0.005461           0.122515   \n",
       "14      0.002013      0.042723           0.008071           0.117410   \n",
       "15     -0.003290      0.027992          -0.002049           0.104343   \n",
       "16      0.002855      0.037609           0.009892           0.114479   \n",
       "17      0.000268      0.023506           0.000123           0.089939   \n",
       "18     -0.006911      0.038838          -0.016241           0.116901   \n",
       "19     -0.000595      0.032206          -0.012438           0.113370   \n",
       "\n",
       "    True value  \n",
       "0          1.0  \n",
       "1         -1.0  \n",
       "2          0.0  \n",
       "3          0.0  \n",
       "4          0.0  \n",
       "5          0.0  \n",
       "6          0.0  \n",
       "7          0.0  \n",
       "8          0.0  \n",
       "9          0.0  \n",
       "10         0.0  \n",
       "11         0.0  \n",
       "12         0.0  \n",
       "13         0.0  \n",
       "14         0.0  \n",
       "15         0.0  \n",
       "16         0.0  \n",
       "17         0.0  \n",
       "18         0.0  \n",
       "19         0.0  "
      ]
     },
     "execution_count": 39,
     "metadata": {},
     "output_type": "execute_result"
    }
   ],
   "source": [
    "coefs_df=pandas.DataFrame({'True value':beta,'Regression (mean)':numpy.mean(lrcoef,0),'Lasso (mean)':numpy.mean(lassocoef,0),\n",
    "                          'Regression(stdev)':numpy.std(lrcoef,0),'Lasso(stdev)':numpy.std(lassocoef,0)})\n",
    "coefs_df"
   ]
  },
  {
   "cell_type": "markdown",
   "metadata": {},
   "source": [
    "Another place where regularization is essential is when your data are wider than they are tall - that is, when you have more variables than observations. This is almost always the case for brain imaging data, when the number of voxels far outweighs the number of subjects or events.  In this case, the ordinary least squares solution is ill-posed, meaning that it has an infinite number of possible solutions.  The sklearn LinearRegression() estimator will return an estimate even in this case, but the parameter estimates will be highly variable.  However, we can use a regularized regression technique to find more robust estimates in this case.  \n",
    "\n",
    "Let's run the same simulation, but now put 1000 variables instead of 20. This will take a few minutes to execute.  "
   ]
  },
  {
   "cell_type": "code",
   "execution_count": 40,
   "metadata": {
    "collapsed": false
   },
   "outputs": [
    {
     "name": "stderr",
     "output_type": "stream",
     "text": [
      "/Users/poldrack/anaconda/envs/py34/lib/python3.4/site-packages/sklearn/linear_model/coordinate_descent.py:484: ConvergenceWarning: Objective did not converge. You might want to increase the number of iterations. Fitting data with very small alpha may cause precision problems.\n",
      "  ConvergenceWarning)\n"
     ]
    },
    {
     "name": "stdout",
     "output_type": "stream",
     "text": [
      "mean sum of squared error:\n",
      "linear regression: 298.858870008\n",
      "lasso: 131.318485625\n"
     ]
    }
   ],
   "source": [
    "nsims=100\n",
    "prederr=numpy.zeros((nsims,2))\n",
    "lrcoef=numpy.zeros((nsims,1000))\n",
    "lassocoef=numpy.zeros((nsims,1000))\n",
    "\n",
    "for i in range(nsims):\n",
    "    prederr[i,:],lrcoef[i,:],lassocoef[i,:],beta=compare_lr_lasso(nvars=1000)\n",
    "    \n",
    "print('mean sum of squared error:')\n",
    "print('linear regression:',numpy.mean(prederr,0)[0])\n",
    "print('lasso:',numpy.mean(prederr,0)[1])\n"
   ]
  },
  {
   "cell_type": "code",
   "execution_count": null,
   "metadata": {
    "collapsed": true
   },
   "outputs": [],
   "source": []
  }
 ],
 "metadata": {
  "git": {
   "suppress_outputs": true
  },
  "kernelspec": {
   "display_name": "Python 3",
   "language": "python",
   "name": "python3"
  },
  "language_info": {
   "codemirror_mode": {
    "name": "ipython",
    "version": 3
   },
   "file_extension": ".py",
   "mimetype": "text/x-python",
   "name": "python",
   "nbconvert_exporter": "python",
   "pygments_lexer": "ipython3",
   "version": "3.4.4"
  }
 },
 "nbformat": 4,
 "nbformat_minor": 0
}
